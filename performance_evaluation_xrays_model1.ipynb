{
  "nbformat": 4,
  "nbformat_minor": 0,
  "metadata": {
    "colab": {
      "name": "performance_evaluations_xrays_module1.ipynb",
      "provenance": [],
      "collapsed_sections": [],
      "machine_shape": "hm",
      "include_colab_link": true
    },
    "kernelspec": {
      "name": "python3",
      "display_name": "Python 3"
    },
    "language_info": {
      "name": "python"
    },
    "accelerator": "GPU"
  },
  "cells": [
    {
      "cell_type": "markdown",
      "metadata": {
        "id": "view-in-github",
        "colab_type": "text"
      },
      "source": []
    },
    {
      "cell_type": "code",
      "metadata": {
        "colab": {
          "base_uri": "https://localhost:8080/"
        },
        "id": "yJq5IFi7kSex",
        "outputId": "b851e403-5857-43bf-c0d5-5e60e0d08af0"
      },
      "source": [
        "gpu_info = !nvidia-smi\n",
        "gpu_info = '\\n'.join(gpu_info)\n",
        "if gpu_info.find('failed') >= 0:\n",
        "  print('Select the Runtime > \"Change runtime type\" menu to enable a GPU accelerator, ')\n",
        "  print('and then re-execute this cell.')\n",
        "else:\n",
        "  print(gpu_info)"
      ],
      "execution_count": 1,
      "outputs": [
        {
          "output_type": "stream",
          "text": [
            "Mon Jun 21 19:59:46 2021       \n",
            "+-----------------------------------------------------------------------------+\n",
            "| NVIDIA-SMI 465.27       Driver Version: 460.32.03    CUDA Version: 11.2     |\n",
            "|-------------------------------+----------------------+----------------------+\n",
            "| GPU  Name        Persistence-M| Bus-Id        Disp.A | Volatile Uncorr. ECC |\n",
            "| Fan  Temp  Perf  Pwr:Usage/Cap|         Memory-Usage | GPU-Util  Compute M. |\n",
            "|                               |                      |               MIG M. |\n",
            "|===============================+======================+======================|\n",
            "|   0  Tesla P100-PCIE...  Off  | 00000000:00:04.0 Off |                    0 |\n",
            "| N/A   36C    P0    26W / 250W |      0MiB / 16280MiB |      0%      Default |\n",
            "|                               |                      |                  N/A |\n",
            "+-------------------------------+----------------------+----------------------+\n",
            "                                                                               \n",
            "+-----------------------------------------------------------------------------+\n",
            "| Processes:                                                                  |\n",
            "|  GPU   GI   CI        PID   Type   Process name                  GPU Memory |\n",
            "|        ID   ID                                                   Usage      |\n",
            "|=============================================================================|\n",
            "|  No running processes found                                                 |\n",
            "+-----------------------------------------------------------------------------+\n"
          ],
          "name": "stdout"
        }
      ]
    },
    {
      "cell_type": "code",
      "metadata": {
        "id": "lFt6bJXqtpVM"
      },
      "source": [
        "# Import required dependencies\n",
        "import pandas as pd\n",
        "from io import BytesIO\n",
        "import numpy as np\n",
        "import os\n",
        "import shutil\n",
        "import pprint\n",
        "import json\n",
        "from PIL import Image\n",
        "from PIL.ImageStat import Stat\n",
        "import matplotlib.pyplot as plt\n",
        "import matplotlib.image as mpimg\n",
        "import tensorflow as tf\n",
        "import pathlib\n",
        "import cv2"
      ],
      "execution_count": 2,
      "outputs": []
    },
    {
      "cell_type": "code",
      "metadata": {
        "colab": {
          "base_uri": "https://localhost:8080/"
        },
        "id": "ReNdr2UuCZX9",
        "outputId": "3a74becc-b5ff-4196-dca0-bb40d995374f"
      },
      "source": [
        "%tensorflow_version 2.x\n",
        "import tensorflow as tf\n",
        "device_name = tf.test.gpu_device_name()\n",
        "if device_name != '/device:GPU:0':\n",
        "  raise SystemError('GPU device not found')\n",
        "print('Found GPU at: {}'.format(device_name))"
      ],
      "execution_count": 3,
      "outputs": [
        {
          "output_type": "stream",
          "text": [
            "Found GPU at: /device:GPU:0\n"
          ],
          "name": "stdout"
        }
      ]
    },
    {
      "cell_type": "code",
      "metadata": {
        "id": "9K-Vv6UIXl4g",
        "colab": {
          "base_uri": "https://localhost:8080/"
        },
        "outputId": "c0f13171-4178-4555-933d-85684bab561f"
      },
      "source": [
        "!pip list | grep tensorflow"
      ],
      "execution_count": 4,
      "outputs": [
        {
          "output_type": "stream",
          "text": [
            "tensorflow                    2.5.0              \n",
            "tensorflow-datasets           4.0.1              \n",
            "tensorflow-estimator          2.5.0              \n",
            "tensorflow-gcs-config         2.5.0              \n",
            "tensorflow-hub                0.12.0             \n",
            "tensorflow-metadata           1.0.0              \n",
            "tensorflow-probability        0.12.1             \n"
          ],
          "name": "stdout"
        }
      ]
    },
    {
      "cell_type": "code",
      "metadata": {
        "id": "wH0EkGhUMjRu",
        "colab": {
          "base_uri": "https://localhost:8080/"
        },
        "outputId": "fc83658d-0897-47ff-8a80-b6687fc1daed"
      },
      "source": [
        "# setup drive\n",
        "from google.colab import drive\n",
        "drive.mount('/content/gdrive') "
      ],
      "execution_count": 5,
      "outputs": [
        {
          "output_type": "stream",
          "text": [
            "Mounted at /content/gdrive\n"
          ],
          "name": "stdout"
        }
      ]
    },
    {
      "cell_type": "code",
      "metadata": {
        "id": "pOzIk4l8M0J1"
      },
      "source": [
        "import os\n",
        "os.environ['KAGGLE_CONFIG_DIR'] = \"/content/gdrive/MyDrive/ML\""
      ],
      "execution_count": 6,
      "outputs": []
    },
    {
      "cell_type": "code",
      "metadata": {
        "id": "SYVotTlFNBZe",
        "colab": {
          "base_uri": "https://localhost:8080/"
        },
        "outputId": "58961495-74fd-420e-a5e4-e4f5274f268c"
      },
      "source": [
        "#changing the working directory\n",
        "%cd /content/gdrive/MyDrive/ML"
      ],
      "execution_count": 7,
      "outputs": [
        {
          "output_type": "stream",
          "text": [
            "/content/gdrive/MyDrive/ML\n"
          ],
          "name": "stdout"
        }
      ]
    },
    {
      "cell_type": "code",
      "metadata": {
        "id": "rH6T-8DkhhA6"
      },
      "source": [
        "# install utility for converting to dicom\n",
        "!pip install simpleitk  > /dev/null 2>&1"
      ],
      "execution_count": 8,
      "outputs": []
    },
    {
      "cell_type": "markdown",
      "metadata": {
        "id": "xKssY_Gbqopn"
      },
      "source": [
        "# Load 2 trained models (ResNet50 and Vgg16)"
      ]
    },
    {
      "cell_type": "code",
      "metadata": {
        "id": "eUiMrvJLquzQ",
        "colab": {
          "base_uri": "https://localhost:8080/",
          "height": 203
        },
        "outputId": "0616634d-cab5-4386-b8d5-001651a09dca"
      },
      "source": [
        "# Load the csv back in to a dataframe\n",
        "\n",
        "data = pd.read_csv('/content/gdrive/MyDrive/C19/dicom/x-ray-scans.csv')\n",
        "# convert label from string to int\n",
        "mapping = {'non-covid': '0', 'covid': '1'}\n",
        "data = data.replace({'label': mapping})\n",
        "data.head()"
      ],
      "execution_count": 9,
      "outputs": [
        {
          "output_type": "execute_result",
          "data": {
            "text/html": [
              "<div>\n",
              "<style scoped>\n",
              "    .dataframe tbody tr th:only-of-type {\n",
              "        vertical-align: middle;\n",
              "    }\n",
              "\n",
              "    .dataframe tbody tr th {\n",
              "        vertical-align: top;\n",
              "    }\n",
              "\n",
              "    .dataframe thead th {\n",
              "        text-align: right;\n",
              "    }\n",
              "</style>\n",
              "<table border=\"1\" class=\"dataframe\">\n",
              "  <thead>\n",
              "    <tr style=\"text-align: right;\">\n",
              "      <th></th>\n",
              "      <th>Unnamed: 0</th>\n",
              "      <th>paths</th>\n",
              "      <th>label</th>\n",
              "    </tr>\n",
              "  </thead>\n",
              "  <tbody>\n",
              "    <tr>\n",
              "      <th>0</th>\n",
              "      <td>0</td>\n",
              "      <td>/content/gdrive/MyDrive/C19/dicom/covid/c_2616...</td>\n",
              "      <td>1</td>\n",
              "    </tr>\n",
              "    <tr>\n",
              "      <th>1</th>\n",
              "      <td>1</td>\n",
              "      <td>/content/gdrive/MyDrive/C19/dicom/covid/c_2617...</td>\n",
              "      <td>1</td>\n",
              "    </tr>\n",
              "    <tr>\n",
              "      <th>2</th>\n",
              "      <td>2</td>\n",
              "      <td>/content/gdrive/MyDrive/C19/dicom/covid/c_2618...</td>\n",
              "      <td>1</td>\n",
              "    </tr>\n",
              "    <tr>\n",
              "      <th>3</th>\n",
              "      <td>3</td>\n",
              "      <td>/content/gdrive/MyDrive/C19/dicom/covid/c_2619...</td>\n",
              "      <td>1</td>\n",
              "    </tr>\n",
              "    <tr>\n",
              "      <th>4</th>\n",
              "      <td>4</td>\n",
              "      <td>/content/gdrive/MyDrive/C19/dicom/covid/c_2620...</td>\n",
              "      <td>1</td>\n",
              "    </tr>\n",
              "  </tbody>\n",
              "</table>\n",
              "</div>"
            ],
            "text/plain": [
              "   Unnamed: 0                                              paths label\n",
              "0           0  /content/gdrive/MyDrive/C19/dicom/covid/c_2616...     1\n",
              "1           1  /content/gdrive/MyDrive/C19/dicom/covid/c_2617...     1\n",
              "2           2  /content/gdrive/MyDrive/C19/dicom/covid/c_2618...     1\n",
              "3           3  /content/gdrive/MyDrive/C19/dicom/covid/c_2619...     1\n",
              "4           4  /content/gdrive/MyDrive/C19/dicom/covid/c_2620...     1"
            ]
          },
          "metadata": {
            "tags": []
          },
          "execution_count": 9
        }
      ]
    },
    {
      "cell_type": "code",
      "metadata": {
        "id": "ueobI6hErCJ4"
      },
      "source": [
        "from sklearn.model_selection import train_test_split\n",
        "# split data 20% test\n",
        "\n",
        "train_set, test_set = train_test_split(data, test_size=0.2)"
      ],
      "execution_count": 10,
      "outputs": []
    },
    {
      "cell_type": "code",
      "metadata": {
        "id": "rvm71eSbrv0i"
      },
      "source": [
        "# Data augmentation\n",
        "validation_datagen =  tf.keras.preprocessing.image.ImageDataGenerator(rescale = 1./255., \n",
        "                                                              validation_split = 0.2)\n",
        "\n",
        "test_datagen =  tf.keras.preprocessing.image.ImageDataGenerator(\n",
        "    rescale=1.0/255.0\n",
        ")"
      ],
      "execution_count": 11,
      "outputs": []
    },
    {
      "cell_type": "code",
      "metadata": {
        "id": "P8731No7Ss4Y",
        "colab": {
          "base_uri": "https://localhost:8080/"
        },
        "outputId": "6cc488af-b5a8-4a5b-df52-a4fa18016a1c"
      },
      "source": [
        "# install pydicom\n",
        "!pip install pydicom"
      ],
      "execution_count": 12,
      "outputs": [
        {
          "output_type": "stream",
          "text": [
            "Collecting pydicom\n",
            "\u001b[?25l  Downloading https://files.pythonhosted.org/packages/f4/15/df16546bc59bfca390cf072d473fb2c8acd4231636f64356593a63137e55/pydicom-2.1.2-py3-none-any.whl (1.9MB)\n",
            "\u001b[K     |████████████████████████████████| 1.9MB 13.8MB/s \n",
            "\u001b[?25hInstalling collected packages: pydicom\n",
            "Successfully installed pydicom-2.1.2\n"
          ],
          "name": "stdout"
        }
      ]
    },
    {
      "cell_type": "code",
      "metadata": {
        "id": "qhteF0q3rfmM"
      },
      "source": [
        "from keras_preprocessing.image.dataframe_iterator import DataFrameIterator\n",
        "import pydicom\n",
        "\n",
        "#DICOM image reader\n",
        "# https://gist.github.com/ReemRashwan/8c92086d3104d01978a16e05ca93a165\n",
        "class DCMDataFrameIterator(DataFrameIterator):\n",
        "    def __init__(self, *arg, **kwargs):\n",
        "        self.white_list_formats = ('dcm')\n",
        "        super(DCMDataFrameIterator, self).__init__(*arg, **kwargs)\n",
        "        self.dataframe = kwargs['dataframe']\n",
        "        self.x = self.dataframe[kwargs['x_col']]\n",
        "        self.y = self.dataframe[kwargs['y_col']]\n",
        "        self.color_mode = kwargs['color_mode']\n",
        "        self.target_size = kwargs['target_size']\n",
        "\n",
        "    def _get_batches_of_transformed_samples(self, indices_array):\n",
        "        # get batch of images\n",
        "        batch_x = np.array([self.read_dcm_as_array(dcm_path, self.target_size, color_mode=self.color_mode)\n",
        "                            for dcm_path in self.x.iloc[indices_array]])\n",
        "\n",
        "        batch_y = np.array(self.y.iloc[indices_array].astype(np.uint8))  # astype because y was passed as str\n",
        "\n",
        "        # transform images\n",
        "        if self.image_data_generator is not None:\n",
        "            for i, (x, y) in enumerate(zip(batch_x, batch_y)):\n",
        "                transform_params = self.image_data_generator.get_random_transform(x.shape)\n",
        "                batch_x[i] = self.image_data_generator.apply_transform(x, transform_params)\n",
        "                # you can change y here as well, eg: in semantic segmentation you want to transform masks as well \n",
        "                # using the same image_data_generator transformations.\n",
        "\n",
        "        return batch_x, batch_y\n",
        "\n",
        "    @staticmethod\n",
        "    def read_dcm_as_array(dcm_path, target_size=(224, 224), color_mode='rgb'):\n",
        "        image_array = pydicom.dcmread(dcm_path).pixel_array\n",
        "        image_array = cv2.resize(image_array, target_size, interpolation=cv2.INTER_NEAREST)  #this returns a 2d array\n",
        "        image_array = np.expand_dims(image_array, -1)\n",
        "        if color_mode == 'rgb':\n",
        "            image_array = cv2.cvtColor(image_array, cv2.COLOR_GRAY2RGB)\n",
        "\n",
        "        return image_array"
      ],
      "execution_count": 13,
      "outputs": []
    },
    {
      "cell_type": "code",
      "metadata": {
        "id": "J2vP-IC7tb48",
        "colab": {
          "base_uri": "https://localhost:8080/"
        },
        "outputId": "cae0762a-42c9-4f4c-dd58-c0841678e341"
      },
      "source": [
        "from tensorflow.keras.preprocessing.image import ImageDataGenerator\n",
        "\n",
        "batch_size = 32\n",
        "img_height = 224\n",
        "img_width = 224\n",
        "class_mode = 'binary'\n",
        "colour_mode = 'rgb'\n",
        "seed = 1234\n",
        "num_epochs = 30\n",
        "\n",
        "valid_consts = {\n",
        "   'seed': seed,\n",
        "    'batch_size': batch_size,\n",
        "    'class_mode': class_mode,\n",
        "    'color_mode': colour_mode,\n",
        "    'target_size': (img_height, img_width),  \n",
        "    'subset': 'validation'\n",
        "}\n",
        "\n",
        "test_consts = {\n",
        "    'batch_size': 1,  \n",
        "    'class_mode': class_mode,\n",
        "    'color_mode': colour_mode,\n",
        "    'target_size': (img_height, img_width), \n",
        "    'shuffle': False\n",
        "}\n",
        "\n",
        "validation_generator = DCMDataFrameIterator(dataframe=train_set,\n",
        "                            x_col='paths',\n",
        "                             y_col='label',                            \n",
        "                             image_data_generator=validation_datagen,\n",
        "                             **valid_consts)\n",
        "\n"
      ],
      "execution_count": 14,
      "outputs": [
        {
          "output_type": "stream",
          "text": [
            "Found 2123 validated image filenames belonging to 2 classes.\n"
          ],
          "name": "stdout"
        }
      ]
    },
    {
      "cell_type": "code",
      "metadata": {
        "id": "ogkaCc18dGBw",
        "colab": {
          "base_uri": "https://localhost:8080/"
        },
        "outputId": "9802081a-8e4e-445b-f09b-b1db960b034e"
      },
      "source": [
        "\n",
        "\n",
        "# Using the testing generator to evaluate the model after training\n",
        "\n",
        "test_generator = DCMDataFrameIterator(dataframe=test_set,\n",
        "                             x_col='paths',\n",
        "                             y_col='label',   \n",
        "                             image_data_generator=test_datagen,\n",
        "                             **test_consts)\n",
        "\n",
        "#test_loss, test_accuracy = model.evaluate(test_generator, steps=len(test_generator))\n"
      ],
      "execution_count": 15,
      "outputs": [
        {
          "output_type": "stream",
          "text": [
            "Found 2654 validated image filenames belonging to 2 classes.\n"
          ],
          "name": "stdout"
        }
      ]
    },
    {
      "cell_type": "markdown",
      "metadata": {
        "id": "aR47VWGPBG6G"
      },
      "source": [
        "### Build resnet50 model and load weights"
      ]
    },
    {
      "cell_type": "code",
      "metadata": {
        "id": "wkGmjfCPBG6I"
      },
      "source": [
        "import tensorflow as tf\n",
        "from tensorflow import keras\n",
        "#from tensorflow.keras import layers\n",
        "from tensorflow.keras import Model\n",
        "import tensorflow.keras.layers as layers\n",
        "from keras.initializers import glorot_uniform"
      ],
      "execution_count": 16,
      "outputs": []
    },
    {
      "cell_type": "code",
      "metadata": {
        "id": "6Ftp5qFBQBLS",
        "colab": {
          "base_uri": "https://localhost:8080/"
        },
        "outputId": "f5093bf0-ebb3-42e5-840d-b940a21257c3"
      },
      "source": [
        "from keras.applications.resnet50 import ResNet50\n",
        "resnet50BaseModel = ResNet50(weights='imagenet',include_top=False, input_shape=(img_width, img_height, 3))\n"
      ],
      "execution_count": 17,
      "outputs": [
        {
          "output_type": "stream",
          "text": [
            "Downloading data from https://storage.googleapis.com/tensorflow/keras-applications/resnet/resnet50_weights_tf_dim_ordering_tf_kernels_notop.h5\n",
            "94773248/94765736 [==============================] - 1s 0us/step\n"
          ],
          "name": "stdout"
        }
      ]
    },
    {
      "cell_type": "code",
      "metadata": {
        "id": "OgM6KWmxvx-p"
      },
      "source": [
        "from tensorflow import keras\n",
        "from tensorflow.keras import layers\n",
        "from tensorflow.keras.layers import Dense, Flatten\n",
        "from tensorflow.keras import Model\n",
        "# freeze the top layers\n",
        "resnet50BaseModel.trainable = False\n",
        "\n",
        "#configure the classification layer \n",
        "modelResnet50 = keras.Sequential([\n",
        "  resnet50BaseModel,\n",
        "  layers.Flatten(),\n",
        "  layers.Dense(4096, activation='relu'),\n",
        "  layers.Dense(4096, activation='relu'),\n",
        "  layers.Dense(2, activation='softmax')                          \n",
        "])\n",
        "\n",
        "# load the training weights\n",
        "modelResnet50.load_weights(filepath='/content/gdrive/MyDrive/C19/resnet50.hdf5')"
      ],
      "execution_count": 18,
      "outputs": []
    },
    {
      "cell_type": "code",
      "metadata": {
        "colab": {
          "base_uri": "https://localhost:8080/"
        },
        "id": "flyMYHkfG8Rc",
        "outputId": "ded8f798-23b6-4df9-d1e2-200bfe232a59"
      },
      "source": [
        "%%time\n",
        "# Run predictions on training set\n",
        "y_pred = modelResnet50.predict(test_generator)\n"
      ],
      "execution_count": 19,
      "outputs": [
        {
          "output_type": "stream",
          "text": [
            "CPU times: user 37.8 s, sys: 2.27 s, total: 40.1 s\n",
            "Wall time: 20min 41s\n"
          ],
          "name": "stdout"
        }
      ]
    },
    {
      "cell_type": "code",
      "metadata": {
        "id": "uwOCcekqSPRg",
        "outputId": "49cccb2c-476a-46c2-8937-8253a7fcc214",
        "colab": {
          "base_uri": "https://localhost:8080/"
        }
      },
      "source": [
        "print(y_pred.shape)\n",
        "y_prediction = np.argmax(y_pred, axis=-1)\n"
      ],
      "execution_count": 29,
      "outputs": [
        {
          "output_type": "stream",
          "text": [
            "(2654, 2)\n",
            "[0 0 0 ... 0 1 0]\n"
          ],
          "name": "stdout"
        }
      ]
    },
    {
      "source": [
        "### Compute precision, and recall"
      ],
      "cell_type": "markdown",
      "metadata": {}
    },
    {
      "source": [
        "$$precision =\\frac{TP}{(TP + FP)}$$\n",
        "\n",
        "$$recall= \\frac{TP}{(TP+FN)}$$"
      ],
      "cell_type": "markdown",
      "metadata": {}
    },
    {
      "cell_type": "code",
      "execution_count": null,
      "metadata": {},
      "outputs": [],
      "source": [
        "TP = 0.\n",
        "TN = 0.\n",
        "FP = 0.\n",
        "FN = 0.\n",
        "index = 0\n",
        "while TRUE:\n",
        "    try:\n",
        "        x, y = validation_generator.next()\n",
        "        if y == y_prediction[index]:\n",
        "            TP += 1   \n",
        "\n",
        "\n",
        "        index += 1\n",
        "    except StopIteration:\n",
        "        break\n",
        "\n",
        "\n",
        "\n"
      ]
    },
    {
      "cell_type": "code",
      "metadata": {
        "id": "PyTUm5vK3AWG"
      },
      "source": [
        "from sklearn.metrics import roc_curve\n",
        "\n",
        "fpr_keras, tpr_keras, thresholds_keras = roc_curve(test_set['label'], y_prediction, pos_label='1')"
      ],
      "execution_count": 40,
      "outputs": []
    },
    {
      "cell_type": "markdown",
      "metadata": {
        "id": "uP1TkIc1wgib"
      },
      "source": [
        "### Build VGG16 model and load weights"
      ]
    },
    {
      "cell_type": "code",
      "metadata": {
        "id": "GBqvRMgLwowb",
        "colab": {
          "base_uri": "https://localhost:8080/"
        },
        "outputId": "8f537f67-b17c-464e-adf1-d9aaf9e7ec71"
      },
      "source": [
        "from keras.applications.vgg16 import VGG16\n",
        "vgg16BaseModel = VGG16(weights='imagenet',include_top=False, input_shape=(img_width, img_height, 3))"
      ],
      "execution_count": 33,
      "outputs": [
        {
          "output_type": "stream",
          "text": [
            "Downloading data from https://storage.googleapis.com/tensorflow/keras-applications/vgg16/vgg16_weights_tf_dim_ordering_tf_kernels_notop.h5\n",
            "58892288/58889256 [==============================] - 1s 0us/step\n",
            "58900480/58889256 [==============================] - 1s 0us/step\n"
          ],
          "name": "stdout"
        }
      ]
    },
    {
      "cell_type": "code",
      "metadata": {
        "id": "RclP50Sqw5AA",
        "colab": {
          "base_uri": "https://localhost:8080/"
        },
        "outputId": "1dd1c837-1888-4cb3-f09d-828f6932a480"
      },
      "source": [
        "from tensorflow import keras\n",
        "from tensorflow.keras import layers\n",
        "from tensorflow.keras.layers import Dense, Flatten\n",
        "from tensorflow.keras import Model\n",
        "# freeze the top layers\n",
        "vgg16BaseModel.trainable = False\n",
        "\n",
        "#configure the classification layer \n",
        "modelVgg16 = keras.Sequential([\n",
        "  vgg16BaseModel,\n",
        "  layers.Flatten(),\n",
        "  layers.Dense(4096, activation='relu'),\n",
        "  layers.Dense(4096, activation='relu') ,\n",
        "  layers.Dense(2, activation='softmax')                          \n",
        "])\n",
        "\n",
        "modelVgg16.build(input_shape=(None,img_width, img_height, 3))\n",
        "\n",
        "modelVgg16.load_weights(filepath='/content/gdrive/MyDrive/C19/vggModel')"
      ],
      "execution_count": 34,
      "outputs": [
        {
          "output_type": "execute_result",
          "data": {
            "text/plain": [
              "<tensorflow.python.training.tracking.util.CheckpointLoadStatus at 0x7ef9ec27f890>"
            ]
          },
          "metadata": {
            "tags": []
          },
          "execution_count": 34
        }
      ]
    },
    {
      "cell_type": "code",
      "metadata": {
        "id": "u3HUA8ulW06R",
        "outputId": "8e592efe-c373-4fe3-be9d-a40324221722",
        "colab": {
          "base_uri": "https://localhost:8080/"
        }
      },
      "source": [
        "%%time\n",
        "# Run predictions on training set\n",
        "y_pred_vgg16 = modelVgg16.predict(test_generator)"
      ],
      "execution_count": 36,
      "outputs": [
        {
          "output_type": "stream",
          "text": [
            "CPU times: user 12.7 s, sys: 1.28 s, total: 14 s\n",
            "Wall time: 14.5 s\n"
          ],
          "name": "stdout"
        }
      ]
    },
    {
      "cell_type": "code",
      "metadata": {
        "id": "-l2JCoyHXsnx",
        "outputId": "c8065cdc-b3cc-4b72-9f4d-b0a7dd417701",
        "colab": {
          "base_uri": "https://localhost:8080/"
        }
      },
      "source": [
        "print(y_pred_vgg16.shape)\n",
        "y_prediction_vgg16 = np.argmax(y_pred_vgg16, axis=-1)"
      ],
      "execution_count": 42,
      "outputs": [
        {
          "output_type": "stream",
          "text": [
            "(2654, 2)\n"
          ],
          "name": "stdout"
        }
      ]
    },
    {
      "cell_type": "code",
      "metadata": {
        "id": "T-s18krkXYu5"
      },
      "source": [
        "# compute false positive and true positive rates\n",
        "fpr_vgg, tpr_vgg, thresholds_keras_vgg = roc_curve(test_set['label'], y_prediction_vgg16, pos_label='1')"
      ],
      "execution_count": 49,
      "outputs": []
    },
    {
      "cell_type": "markdown",
      "metadata": {
        "id": "rZrJq_ZRWxbP"
      },
      "source": [
        "## ROC curves"
      ]
    },
    {
      "cell_type": "code",
      "metadata": {
        "id": "VyhfIwvUWckR"
      },
      "source": [
        "from sklearn.metrics import auc\n",
        "auc_keras = auc(fpr_keras, tpr_keras)\n",
        "auc_vgg = auc(fpr_vgg, tpr_vgg)"
      ],
      "execution_count": 50,
      "outputs": []
    },
    {
      "cell_type": "code",
      "metadata": {
        "id": "WDum9a5xWTch",
        "outputId": "96da82c0-7b9c-4c35-bfdb-ae83531fa9ed",
        "colab": {
          "base_uri": "https://localhost:8080/",
          "height": 573
        }
      },
      "source": [
        "plt.figure(1)\n",
        "plt.plot([0, 1], [0, 1], 'k--')\n",
        "plt.plot(fpr_keras, tpr_keras, label='ResNet50 (area = {:.3f})'.format(auc_keras))\n",
        "plt.plot(fpr_vgg, tpr_vgg, label='VGG16 (area = {:.3f})'.format(auc_vgg))\n",
        "plt.xlabel('False positive rate')\n",
        "plt.ylabel('True positive rate')\n",
        "plt.title('ROC curve')\n",
        "plt.legend(loc='best')\n",
        "plt.show()\n",
        "# Zoom in view of the upper left corner.\n",
        "plt.figure(2)\n",
        "plt.xlim(0, 0.2)\n",
        "plt.ylim(0.8, 1)\n",
        "plt.plot([0, 1], [0, 1], 'k--')\n",
        "plt.plot(fpr_keras, tpr_keras, label='Resnet50 (area = {:.3f})'.format(auc_keras))\n",
        "plt.plot(fpr_vgg, tpr_vgg, label='Vgg16 (area = {:.3f})'.format(auc_vgg))\n",
        "plt.xlabel('False positive rate')\n",
        "plt.ylabel('True positive rate')\n",
        "plt.title('ROC curve (zoomed in at top left)')\n",
        "plt.legend(loc='best')\n",
        "plt.show()"
      ],
      "execution_count": 52,
      "outputs": [
        {
          "output_type": "display_data",
          "data": {
            "image/png": "[encoded data removed]",
            "text/plain": [
              "<Figure size 432x288 with 1 Axes>"
            ]
          },
          "metadata": {
            "tags": [],
            "needs_background": "light"
          }
        },
        {
          "output_type": "display_data",
          "data": {
            "image/png": "[encoded data removed]",
            "text/plain": [
              "<Figure size 432x288 with 1 Axes>"
            ]
          },
          "metadata": {
            "tags": [],
            "needs_background": "light"
          }
        }
      ]
    },
    {
      "cell_type": "markdown",
      "metadata": {
        "id": "Tqs4VS5FaL7F"
      },
      "source": [
        "*Resnet50 outperforms Vgg16*"
      ]
    }
  ]
}