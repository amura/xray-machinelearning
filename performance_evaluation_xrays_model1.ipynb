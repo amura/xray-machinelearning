{
  "nbformat": 4,
  "nbformat_minor": 0,
  "metadata": {
    "colab": {
      "name": "performance_evaluations_xrays_module1.ipynb",
      "provenance": [],
      "collapsed_sections": [],
      "machine_shape": "hm",
      "include_colab_link": true
    },
    "kernelspec": {
      "name": "python3",
      "display_name": "Python 3"
    },
    "language_info": {
      "name": "python"
    },
    "accelerator": "GPU"
  },
  "cells": [
    {
      "cell_type": "markdown",
      "metadata": {
        "id": "view-in-github",
        "colab_type": "text"
      },
      "source": [
        "<a href=\"https://colab.research.google.com/github/amura/xray-machinelearning/blob/model_evaluation/performance_evaluation_xrays_model1.ipynb\" target=\"_parent\"><img src=\"https://colab.research.google.com/assets/colab-badge.svg\" alt=\"Open In Colab\"/></a>"
      ]
    },
    {
      "cell_type": "code",
      "metadata": {
        "colab": {
          "base_uri": "https://localhost:8080/"
        },
        "id": "yJq5IFi7kSex",
        "outputId": "673cd9a6-7a85-46c4-b688-765e8200cf15"
      },
      "source": [
        "gpu_info = !nvidia-smi\n",
        "gpu_info = '\\n'.join(gpu_info)\n",
        "if gpu_info.find('failed') >= 0:\n",
        "  print('Select the Runtime > \"Change runtime type\" menu to enable a GPU accelerator, ')\n",
        "  print('and then re-execute this cell.')\n",
        "else:\n",
        "  print(gpu_info)"
      ],
      "execution_count": 1,
      "outputs": [
        {
          "output_type": "stream",
          "text": [
            "Thu Jun 24 10:15:42 2021       \n",
            "+-----------------------------------------------------------------------------+\n",
            "| NVIDIA-SMI 465.27       Driver Version: 460.32.03    CUDA Version: 11.2     |\n",
            "|-------------------------------+----------------------+----------------------+\n",
            "| GPU  Name        Persistence-M| Bus-Id        Disp.A | Volatile Uncorr. ECC |\n",
            "| Fan  Temp  Perf  Pwr:Usage/Cap|         Memory-Usage | GPU-Util  Compute M. |\n",
            "|                               |                      |               MIG M. |\n",
            "|===============================+======================+======================|\n",
            "|   0  Tesla P100-PCIE...  Off  | 00000000:00:04.0 Off |                    0 |\n",
            "| N/A   39C    P0    26W / 250W |      0MiB / 16280MiB |      0%      Default |\n",
            "|                               |                      |                  N/A |\n",
            "+-------------------------------+----------------------+----------------------+\n",
            "                                                                               \n",
            "+-----------------------------------------------------------------------------+\n",
            "| Processes:                                                                  |\n",
            "|  GPU   GI   CI        PID   Type   Process name                  GPU Memory |\n",
            "|        ID   ID                                                   Usage      |\n",
            "|=============================================================================|\n",
            "|  No running processes found                                                 |\n",
            "+-----------------------------------------------------------------------------+\n"
          ],
          "name": "stdout"
        }
      ]
    },
    {
      "cell_type": "code",
      "metadata": {
        "id": "lFt6bJXqtpVM"
      },
      "source": [
        "# Import required dependencies\n",
        "import pandas as pd\n",
        "from io import BytesIO\n",
        "import numpy as np\n",
        "import os\n",
        "import shutil\n",
        "import pprint\n",
        "import json\n",
        "from PIL import Image\n",
        "from PIL.ImageStat import Stat\n",
        "import matplotlib.pyplot as plt\n",
        "import matplotlib.image as mpimg\n",
        "import tensorflow as tf\n",
        "import pathlib\n",
        "import cv2"
      ],
      "execution_count": 2,
      "outputs": []
    },
    {
      "cell_type": "code",
      "metadata": {
        "colab": {
          "base_uri": "https://localhost:8080/"
        },
        "id": "ReNdr2UuCZX9",
        "outputId": "89c2b3cf-b331-416e-fa06-4957b215e969"
      },
      "source": [
        "%tensorflow_version 2.x\n",
        "import tensorflow as tf\n",
        "device_name = tf.test.gpu_device_name()\n",
        "if device_name != '/device:GPU:0':\n",
        "  raise SystemError('GPU device not found')\n",
        "print('Found GPU at: {}'.format(device_name))"
      ],
      "execution_count": 3,
      "outputs": [
        {
          "output_type": "stream",
          "text": [
            "Found GPU at: /device:GPU:0\n"
          ],
          "name": "stdout"
        }
      ]
    },
    {
      "cell_type": "code",
      "metadata": {
        "id": "9K-Vv6UIXl4g",
        "colab": {
          "base_uri": "https://localhost:8080/"
        },
        "outputId": "3ff5aa2d-64ec-4bc0-ca13-c5ab1f67076b"
      },
      "source": [
        "!pip list | grep tensorflow"
      ],
      "execution_count": 4,
      "outputs": [
        {
          "output_type": "stream",
          "text": [
            "tensorflow                    2.5.0              \n",
            "tensorflow-datasets           4.0.1              \n",
            "tensorflow-estimator          2.5.0              \n",
            "tensorflow-gcs-config         2.5.0              \n",
            "tensorflow-hub                0.12.0             \n",
            "tensorflow-metadata           1.0.0              \n",
            "tensorflow-probability        0.12.1             \n"
          ],
          "name": "stdout"
        }
      ]
    },
    {
      "cell_type": "code",
      "metadata": {
        "id": "wH0EkGhUMjRu",
        "colab": {
          "base_uri": "https://localhost:8080/"
        },
        "outputId": "8512a0bf-3cc1-446e-ca9a-ff8ea466a71d"
      },
      "source": [
        "# setup drive\n",
        "from google.colab import drive\n",
        "drive.mount('/content/gdrive') "
      ],
      "execution_count": 5,
      "outputs": [
        {
          "output_type": "stream",
          "text": [
            "Mounted at /content/gdrive\n"
          ],
          "name": "stdout"
        }
      ]
    },
    {
      "cell_type": "code",
      "metadata": {
        "id": "pOzIk4l8M0J1"
      },
      "source": [
        "import os\n",
        "os.environ['KAGGLE_CONFIG_DIR'] = \"/content/gdrive/MyDrive/ML\""
      ],
      "execution_count": 6,
      "outputs": []
    },
    {
      "cell_type": "code",
      "metadata": {
        "id": "SYVotTlFNBZe",
        "colab": {
          "base_uri": "https://localhost:8080/"
        },
        "outputId": "fa6284e4-17b8-49a6-8520-bf705bb8d913"
      },
      "source": [
        "#changing the working directory\n",
        "%cd /content/gdrive/MyDrive/ML"
      ],
      "execution_count": 7,
      "outputs": [
        {
          "output_type": "stream",
          "text": [
            "/content/gdrive/MyDrive/ML\n"
          ],
          "name": "stdout"
        }
      ]
    },
    {
      "cell_type": "code",
      "metadata": {
        "id": "rH6T-8DkhhA6"
      },
      "source": [
        "# install utility for converting to dicom\n",
        "!pip install simpleitk  > /dev/null 2>&1"
      ],
      "execution_count": 8,
      "outputs": []
    },
    {
      "cell_type": "markdown",
      "metadata": {
        "id": "xKssY_Gbqopn"
      },
      "source": [
        "# Load 2 trained models (ResNet50 and Vgg16)"
      ]
    },
    {
      "cell_type": "code",
      "metadata": {
        "id": "eUiMrvJLquzQ",
        "colab": {
          "base_uri": "https://localhost:8080/",
          "height": 204
        },
        "outputId": "f3d227f4-e3f3-4e05-89a2-426eb01b2e30"
      },
      "source": [
        "# Load the csv back in to a dataframe\n",
        "\n",
        "data = pd.read_csv('/content/gdrive/MyDrive/C19/dicom/x-ray-scans.csv')\n",
        "# convert label from string to int\n",
        "mapping = {'non-covid': '0', 'covid': '1'}\n",
        "data = data.replace({'label': mapping})\n",
        "data.head()"
      ],
      "execution_count": 9,
      "outputs": [
        {
          "output_type": "execute_result",
          "data": {
            "text/html": [
              "<div>\n",
              "<style scoped>\n",
              "    .dataframe tbody tr th:only-of-type {\n",
              "        vertical-align: middle;\n",
              "    }\n",
              "\n",
              "    .dataframe tbody tr th {\n",
              "        vertical-align: top;\n",
              "    }\n",
              "\n",
              "    .dataframe thead th {\n",
              "        text-align: right;\n",
              "    }\n",
              "</style>\n",
              "<table border=\"1\" class=\"dataframe\">\n",
              "  <thead>\n",
              "    <tr style=\"text-align: right;\">\n",
              "      <th></th>\n",
              "      <th>Unnamed: 0</th>\n",
              "      <th>paths</th>\n",
              "      <th>label</th>\n",
              "    </tr>\n",
              "  </thead>\n",
              "  <tbody>\n",
              "    <tr>\n",
              "      <th>0</th>\n",
              "      <td>0</td>\n",
              "      <td>/content/gdrive/MyDrive/C19/dicom/covid/c_2616...</td>\n",
              "      <td>1</td>\n",
              "    </tr>\n",
              "    <tr>\n",
              "      <th>1</th>\n",
              "      <td>1</td>\n",
              "      <td>/content/gdrive/MyDrive/C19/dicom/covid/c_2617...</td>\n",
              "      <td>1</td>\n",
              "    </tr>\n",
              "    <tr>\n",
              "      <th>2</th>\n",
              "      <td>2</td>\n",
              "      <td>/content/gdrive/MyDrive/C19/dicom/covid/c_2618...</td>\n",
              "      <td>1</td>\n",
              "    </tr>\n",
              "    <tr>\n",
              "      <th>3</th>\n",
              "      <td>3</td>\n",
              "      <td>/content/gdrive/MyDrive/C19/dicom/covid/c_2619...</td>\n",
              "      <td>1</td>\n",
              "    </tr>\n",
              "    <tr>\n",
              "      <th>4</th>\n",
              "      <td>4</td>\n",
              "      <td>/content/gdrive/MyDrive/C19/dicom/covid/c_2620...</td>\n",
              "      <td>1</td>\n",
              "    </tr>\n",
              "  </tbody>\n",
              "</table>\n",
              "</div>"
            ],
            "text/plain": [
              "   Unnamed: 0                                              paths label\n",
              "0           0  /content/gdrive/MyDrive/C19/dicom/covid/c_2616...     1\n",
              "1           1  /content/gdrive/MyDrive/C19/dicom/covid/c_2617...     1\n",
              "2           2  /content/gdrive/MyDrive/C19/dicom/covid/c_2618...     1\n",
              "3           3  /content/gdrive/MyDrive/C19/dicom/covid/c_2619...     1\n",
              "4           4  /content/gdrive/MyDrive/C19/dicom/covid/c_2620...     1"
            ]
          },
          "metadata": {
            "tags": []
          },
          "execution_count": 9
        }
      ]
    },
    {
      "cell_type": "code",
      "metadata": {
        "id": "ueobI6hErCJ4"
      },
      "source": [
        "from sklearn.model_selection import train_test_split\n",
        "# split data 20% test\n",
        "\n",
        "train_set, test_set = train_test_split(data, test_size=0.2)"
      ],
      "execution_count": 10,
      "outputs": []
    },
    {
      "cell_type": "code",
      "metadata": {
        "id": "rvm71eSbrv0i"
      },
      "source": [
        "# Data augmentation\n",
        "validation_datagen =  tf.keras.preprocessing.image.ImageDataGenerator(rescale = 1./255., \n",
        "                                                              validation_split = 0.2)\n",
        "\n",
        "test_datagen =  tf.keras.preprocessing.image.ImageDataGenerator(\n",
        "    rescale=1.0/255.0\n",
        ")"
      ],
      "execution_count": 11,
      "outputs": []
    },
    {
      "cell_type": "code",
      "metadata": {
        "id": "P8731No7Ss4Y",
        "colab": {
          "base_uri": "https://localhost:8080/"
        },
        "outputId": "0aae1b68-6009-40b5-940e-f179dbd4d07e"
      },
      "source": [
        "# install pydicom\n",
        "!pip install pydicom"
      ],
      "execution_count": 12,
      "outputs": [
        {
          "output_type": "stream",
          "text": [
            "Collecting pydicom\n",
            "\u001b[?25l  Downloading https://files.pythonhosted.org/packages/f4/15/df16546bc59bfca390cf072d473fb2c8acd4231636f64356593a63137e55/pydicom-2.1.2-py3-none-any.whl (1.9MB)\n",
            "\u001b[K     |████████████████████████████████| 1.9MB 8.2MB/s \n",
            "\u001b[?25hInstalling collected packages: pydicom\n",
            "Successfully installed pydicom-2.1.2\n"
          ],
          "name": "stdout"
        }
      ]
    },
    {
      "cell_type": "code",
      "metadata": {
        "id": "qhteF0q3rfmM"
      },
      "source": [
        "from keras_preprocessing.image.dataframe_iterator import DataFrameIterator\n",
        "import pydicom\n",
        "\n",
        "#DICOM image reader\n",
        "# https://gist.github.com/ReemRashwan/8c92086d3104d01978a16e05ca93a165\n",
        "class DCMDataFrameIterator(DataFrameIterator):\n",
        "    def __init__(self, *arg, **kwargs):\n",
        "        self.white_list_formats = ('dcm')\n",
        "        super(DCMDataFrameIterator, self).__init__(*arg, **kwargs)\n",
        "        self.dataframe = kwargs['dataframe']\n",
        "        self.x = self.dataframe[kwargs['x_col']]\n",
        "        self.y = self.dataframe[kwargs['y_col']]\n",
        "        self.color_mode = kwargs['color_mode']\n",
        "        self.target_size = kwargs['target_size']\n",
        "\n",
        "    def _get_batches_of_transformed_samples(self, indices_array):\n",
        "        # get batch of images\n",
        "        batch_x = np.array([self.read_dcm_as_array(dcm_path, self.target_size, color_mode=self.color_mode)\n",
        "                            for dcm_path in self.x.iloc[indices_array]])\n",
        "\n",
        "        batch_y = np.array(self.y.iloc[indices_array].astype(np.uint8))  # astype because y was passed as str\n",
        "\n",
        "        # transform images\n",
        "        if self.image_data_generator is not None:\n",
        "            for i, (x, y) in enumerate(zip(batch_x, batch_y)):\n",
        "                transform_params = self.image_data_generator.get_random_transform(x.shape)\n",
        "                batch_x[i] = self.image_data_generator.apply_transform(x, transform_params)\n",
        "                # you can change y here as well, eg: in semantic segmentation you want to transform masks as well \n",
        "                # using the same image_data_generator transformations.\n",
        "\n",
        "        return batch_x, batch_y\n",
        "\n",
        "    @staticmethod\n",
        "    def read_dcm_as_array(dcm_path, target_size=(224, 224), color_mode='rgb'):\n",
        "        image_array = pydicom.dcmread(dcm_path).pixel_array\n",
        "        image_array = cv2.resize(image_array, target_size, interpolation=cv2.INTER_NEAREST)  #this returns a 2d array\n",
        "        image_array = np.expand_dims(image_array, -1)\n",
        "        if color_mode == 'rgb':\n",
        "            image_array = cv2.cvtColor(image_array, cv2.COLOR_GRAY2RGB)\n",
        "\n",
        "        return image_array"
      ],
      "execution_count": 13,
      "outputs": []
    },
    {
      "cell_type": "code",
      "metadata": {
        "id": "J2vP-IC7tb48",
        "colab": {
          "base_uri": "https://localhost:8080/"
        },
        "outputId": "6611d72f-760c-4901-b1ae-51fbfaf5a6ff"
      },
      "source": [
        "from tensorflow.keras.preprocessing.image import ImageDataGenerator\n",
        "\n",
        "batch_size = 32\n",
        "img_height = 224\n",
        "img_width = 224\n",
        "class_mode = 'binary'\n",
        "colour_mode = 'rgb'\n",
        "seed = 1234\n",
        "num_epochs = 30\n",
        "\n",
        "valid_consts = {\n",
        "   'seed': seed,\n",
        "    'batch_size': batch_size,\n",
        "    'class_mode': class_mode,\n",
        "    'color_mode': colour_mode,\n",
        "    'target_size': (img_height, img_width),  \n",
        "    'subset': 'validation'\n",
        "}\n",
        "\n",
        "test_consts = {\n",
        "    'batch_size': 1,  \n",
        "    'class_mode': class_mode,\n",
        "    'color_mode': colour_mode,\n",
        "    'target_size': (img_height, img_width), \n",
        "    'shuffle': False\n",
        "}\n",
        "\n",
        "validation_generator = DCMDataFrameIterator(dataframe=train_set,\n",
        "                            x_col='paths',\n",
        "                             y_col='label',                            \n",
        "                             image_data_generator=validation_datagen,\n",
        "                             **valid_consts)\n",
        "\n"
      ],
      "execution_count": 14,
      "outputs": [
        {
          "output_type": "stream",
          "text": [
            "Found 2123 validated image filenames belonging to 2 classes.\n"
          ],
          "name": "stdout"
        }
      ]
    },
    {
      "cell_type": "code",
      "metadata": {
        "id": "ogkaCc18dGBw",
        "colab": {
          "base_uri": "https://localhost:8080/"
        },
        "outputId": "1aa155a5-52fd-4abb-8af1-30187b715e74"
      },
      "source": [
        "\n",
        "\n",
        "# Using the testing generator to evaluate the model after training\n",
        "\n",
        "test_generator = DCMDataFrameIterator(dataframe=test_set,\n",
        "                             x_col='paths',\n",
        "                             y_col='label',   \n",
        "                             image_data_generator=test_datagen,\n",
        "                             **test_consts)\n",
        "\n",
        "#test_loss, test_accuracy = model.evaluate(test_generator, steps=len(test_generator))\n"
      ],
      "execution_count": 15,
      "outputs": [
        {
          "output_type": "stream",
          "text": [
            "Found 2654 validated image filenames belonging to 2 classes.\n"
          ],
          "name": "stdout"
        }
      ]
    },
    {
      "cell_type": "markdown",
      "metadata": {
        "id": "aR47VWGPBG6G"
      },
      "source": [
        "### Build resnet50 model and load weights"
      ]
    },
    {
      "cell_type": "code",
      "metadata": {
        "id": "wkGmjfCPBG6I"
      },
      "source": [
        "import tensorflow as tf\n",
        "from tensorflow import keras\n",
        "#from tensorflow.keras import layers\n",
        "from tensorflow.keras import Model\n",
        "import tensorflow.keras.layers as layers\n",
        "from keras.initializers import glorot_uniform"
      ],
      "execution_count": 16,
      "outputs": []
    },
    {
      "cell_type": "code",
      "metadata": {
        "id": "6Ftp5qFBQBLS",
        "colab": {
          "base_uri": "https://localhost:8080/"
        },
        "outputId": "b5b27f48-2577-4d9c-818b-c8abae93a452"
      },
      "source": [
        "from keras.applications.resnet50 import ResNet50\n",
        "resnet50BaseModel = ResNet50(weights='imagenet',include_top=False, input_shape=(img_width, img_height, 3))\n"
      ],
      "execution_count": 17,
      "outputs": [
        {
          "output_type": "stream",
          "text": [
            "Downloading data from https://storage.googleapis.com/tensorflow/keras-applications/resnet/resnet50_weights_tf_dim_ordering_tf_kernels_notop.h5\n",
            "94773248/94765736 [==============================] - 1s 0us/step\n"
          ],
          "name": "stdout"
        }
      ]
    },
    {
      "cell_type": "code",
      "metadata": {
        "id": "OgM6KWmxvx-p"
      },
      "source": [
        "from tensorflow import keras\n",
        "from tensorflow.keras import layers\n",
        "from tensorflow.keras.layers import Dense, Flatten\n",
        "from tensorflow.keras import Model\n",
        "# freeze the top layers\n",
        "resnet50BaseModel.trainable = False\n",
        "\n",
        "#configure the classification layer \n",
        "modelResnet50 = keras.Sequential([\n",
        "  resnet50BaseModel,\n",
        "  layers.Flatten(),\n",
        "  layers.Dense(4096, activation='relu'),\n",
        "  layers.Dense(4096, activation='relu'),\n",
        "  layers.Dense(2, activation='softmax')                          \n",
        "])\n",
        "\n",
        "# load the training weights\n",
        "modelResnet50.load_weights(filepath='/content/gdrive/MyDrive/C19/resnet50.hdf5')"
      ],
      "execution_count": 18,
      "outputs": []
    },
    {
      "cell_type": "code",
      "metadata": {
        "colab": {
          "base_uri": "https://localhost:8080/"
        },
        "id": "flyMYHkfG8Rc",
        "outputId": "694b949a-f4fa-41ca-ad8b-8a19fdf5171f"
      },
      "source": [
        "%%time\n",
        "# Run predictions on training set\n",
        "y_pred = modelResnet50.predict(test_generator)\n"
      ],
      "execution_count": 19,
      "outputs": [
        {
          "output_type": "stream",
          "text": [
            "CPU times: user 50.3 s, sys: 2.94 s, total: 53.3 s\n",
            "Wall time: 11min 57s\n"
          ],
          "name": "stdout"
        }
      ]
    },
    {
      "cell_type": "code",
      "metadata": {
        "id": "uwOCcekqSPRg",
        "colab": {
          "base_uri": "https://localhost:8080/"
        },
        "outputId": "38735e6b-a8cb-4418-eca2-b18012d7e279"
      },
      "source": [
        "print(y_pred.shape)\n",
        "y_prediction = np.argmax(y_pred, axis=-1)\n"
      ],
      "execution_count": 20,
      "outputs": [
        {
          "output_type": "stream",
          "text": [
            "(2654, 2)\n"
          ],
          "name": "stdout"
        }
      ]
    },
    {
      "cell_type": "markdown",
      "metadata": {
        "id": "myRqESmgSpmv"
      },
      "source": [
        "### Compute precision, and recall"
      ]
    },
    {
      "cell_type": "code",
      "metadata": {
        "id": "BN7SrcEHSpmv",
        "colab": {
          "base_uri": "https://localhost:8080/"
        },
        "outputId": "8dff0631-b280-4f9a-eb65-54d0e20f80ae"
      },
      "source": [
        "TP = 0.\n",
        "TN = 0.\n",
        "FP = 0.\n",
        "FN = 0.\n",
        "index = 0\n",
        "test_generator.reset()\n",
        "\n",
        "while index < len(test_set):\n",
        "    try:\n",
        "        x, y = test_generator.next()             \n",
        "        # positive       \n",
        "        if y[0] == 1:            \n",
        "            if y[0] == y_prediction[index]:\n",
        "                # prediction matches true label\n",
        "                TP += 1   \n",
        "            else: # prediction incorrect as negative when positive                \n",
        "                FP += 1\n",
        "        else: # negative\n",
        "            if y[0] == y_prediction[index]:\n",
        "                # prediction matches negative label\n",
        "                TN += 1\n",
        "            else: # prediction positive when outcome negative        \n",
        "                FN += 1        \n",
        "        index += 1\n",
        "    except StopIteration:\n",
        "        break    \n",
        "\n",
        "    #break\n",
        "\n",
        "\n",
        "print('TP %f, FP %f, TN %f, FN %f' % (TP,FP,TN,FN))\n"
      ],
      "execution_count": 21,
      "outputs": [
        {
          "output_type": "stream",
          "text": [
            "TP 671.000000, FP 43.000000, TN 1919.000000, FN 21.000000\n"
          ],
          "name": "stdout"
        }
      ]
    },
    {
      "cell_type": "markdown",
      "metadata": {
        "id": "BM78-oPaSpmv"
      },
      "source": [
        "$$precision =\\frac{TP}{(TP + FP)}$$\n",
        "\n",
        "$$recall= \\frac{TP}{(TP+FN)}$$"
      ]
    },
    {
      "cell_type": "markdown",
      "metadata": {
        "id": "exd9HVFiltFa"
      },
      "source": [
        "* Precision can be thought of as a measure of a classifiers exactness. \n",
        "\n",
        "* Recall can be thought of as a measure of a classifiers completeness. A low recall indicates many False Negatives."
      ]
    },
    {
      "cell_type": "code",
      "metadata": {
        "id": "Q5ZDo2dhgaG2",
        "colab": {
          "base_uri": "https://localhost:8080/"
        },
        "outputId": "1f12664e-337a-44a0-fd8f-3eab2eb977d3"
      },
      "source": [
        "precision = TP/(TP+FP)\n",
        "recall = TP/(TP+FN)\n",
        "print('Precision %f, Recall %f' % (precision,recall))"
      ],
      "execution_count": 22,
      "outputs": [
        {
          "output_type": "stream",
          "text": [
            "Precision 0.939776, Recall 0.969653\n"
          ],
          "name": "stdout"
        }
      ]
    },
    {
      "cell_type": "markdown",
      "metadata": {
        "id": "zGNeIx1ek3_n"
      },
      "source": [
        "$$F_1=\\frac{TP}{TP+\\frac{1}{2}(FP+FN)}$$"
      ]
    },
    {
      "cell_type": "code",
      "metadata": {
        "id": "8aE9oCqnlQAk",
        "colab": {
          "base_uri": "https://localhost:8080/"
        },
        "outputId": "6f6f619a-cf82-421e-8ce4-ce44362df921"
      },
      "source": [
        "F1 = TP / (TP + 1/2 *(FP+FN))\n",
        "\n",
        "print('F1 score %f' % F1)"
      ],
      "execution_count": 23,
      "outputs": [
        {
          "output_type": "stream",
          "text": [
            "F1 score 0.954481\n"
          ],
          "name": "stdout"
        }
      ]
    },
    {
      "cell_type": "code",
      "metadata": {
        "id": "jTQlOcRzlTmK",
        "outputId": "d76957f9-7458-40b2-f6c6-058503ea3b23",
        "colab": {
          "base_uri": "https://localhost:8080/",
          "height": 299
        }
      },
      "source": [
        "# precision and recall graphs\n",
        "from sklearn.metrics import precision_recall_curve\n",
        "from sklearn.metrics import f1_score\n",
        "from sklearn.metrics import auc\n",
        "from sklearn.metrics import plot_precision_recall_curve\n",
        "from matplotlib import pyplot\n",
        "\n",
        "p ,r,_= precision_recall_curve(test_set['label'], y_pred[:,1], pos_label=1)\n",
        "\n",
        "\n",
        "pyplot.plot(r, p, marker='.', label='Logistic')\n",
        "pyplot.show()\n",
        "\n",
        "\n"
      ],
      "execution_count": 24,
      "outputs": [
        {
          "output_type": "stream",
          "text": [
            "/usr/local/lib/python3.7/dist-packages/sklearn/metrics/_ranking.py:677: RuntimeWarning: invalid value encountered in true_divide\n",
            "  recall = tps / tps[-1]\n"
          ],
          "name": "stderr"
        },
        {
          "output_type": "display_data",
          "data": {
            "image/png": "[encoded data removed]",
            "text/plain": [
              "<Figure size 432x288 with 1 Axes>"
            ]
          },
          "metadata": {
            "tags": [],
            "needs_background": "light"
          }
        }
      ]
    },
    {
      "cell_type": "code",
      "metadata": {
        "id": "PyTUm5vK3AWG"
      },
      "source": [
        "from sklearn.metrics import roc_curve\n",
        "\n",
        "fpr_keras, tpr_keras, thresholds_keras = roc_curve(test_set['label'], y_prediction, pos_label='1')"
      ],
      "execution_count": 25,
      "outputs": []
    },
    {
      "cell_type": "markdown",
      "metadata": {
        "id": "uP1TkIc1wgib"
      },
      "source": [
        "### Build VGG16 model and load weights"
      ]
    },
    {
      "cell_type": "code",
      "metadata": {
        "id": "GBqvRMgLwowb",
        "colab": {
          "base_uri": "https://localhost:8080/"
        },
        "outputId": "6f26b8fb-e0d4-45aa-e2df-813171437831"
      },
      "source": [
        "from keras.applications.vgg16 import VGG16\n",
        "vgg16BaseModel = VGG16(weights='imagenet',include_top=False, input_shape=(img_width, img_height, 3))"
      ],
      "execution_count": 26,
      "outputs": [
        {
          "output_type": "stream",
          "text": [
            "Downloading data from https://storage.googleapis.com/tensorflow/keras-applications/vgg16/vgg16_weights_tf_dim_ordering_tf_kernels_notop.h5\n",
            "58892288/58889256 [==============================] - 1s 0us/step\n",
            "58900480/58889256 [==============================] - 1s 0us/step\n"
          ],
          "name": "stdout"
        }
      ]
    },
    {
      "cell_type": "code",
      "metadata": {
        "id": "RclP50Sqw5AA",
        "colab": {
          "base_uri": "https://localhost:8080/"
        },
        "outputId": "c5aa8ab8-2774-48ed-c6e7-9cbfea8301a5"
      },
      "source": [
        "from tensorflow import keras\n",
        "from tensorflow.keras import layers\n",
        "from tensorflow.keras.layers import Dense, Flatten\n",
        "from tensorflow.keras import Model\n",
        "# freeze the top layers\n",
        "vgg16BaseModel.trainable = False\n",
        "\n",
        "#configure the classification layer \n",
        "modelVgg16 = keras.Sequential([\n",
        "  vgg16BaseModel,\n",
        "  layers.Flatten(),\n",
        "  layers.Dense(4096, activation='relu'),\n",
        "  layers.Dense(4096, activation='relu') ,\n",
        "  layers.Dense(2, activation='softmax')                          \n",
        "])\n",
        "\n",
        "modelVgg16.build(input_shape=(None,img_width, img_height, 3))\n",
        "\n",
        "modelVgg16.load_weights(filepath='/content/gdrive/MyDrive/C19/vggModel')"
      ],
      "execution_count": 27,
      "outputs": [
        {
          "output_type": "execute_result",
          "data": {
            "text/plain": [
              "<tensorflow.python.training.tracking.util.CheckpointLoadStatus at 0x7fb20967c190>"
            ]
          },
          "metadata": {
            "tags": []
          },
          "execution_count": 27
        }
      ]
    },
    {
      "cell_type": "code",
      "metadata": {
        "id": "u3HUA8ulW06R",
        "colab": {
          "base_uri": "https://localhost:8080/"
        },
        "outputId": "74e8f477-df6e-4120-dfa8-266082bcf175"
      },
      "source": [
        "%%time\n",
        "# Run predictions on training set\n",
        "y_pred_vgg16 = modelVgg16.predict(test_generator)"
      ],
      "execution_count": 28,
      "outputs": [
        {
          "output_type": "stream",
          "text": [
            "CPU times: user 18.7 s, sys: 2.05 s, total: 20.7 s\n",
            "Wall time: 15.3 s\n"
          ],
          "name": "stdout"
        }
      ]
    },
    {
      "cell_type": "code",
      "metadata": {
        "id": "-l2JCoyHXsnx",
        "colab": {
          "base_uri": "https://localhost:8080/"
        },
        "outputId": "bf764cad-374a-4279-9524-4eba87f4aa9d"
      },
      "source": [
        "print(y_pred_vgg16.shape)\n",
        "y_prediction_vgg16 = np.argmax(y_pred_vgg16, axis=-1)"
      ],
      "execution_count": 29,
      "outputs": [
        {
          "output_type": "stream",
          "text": [
            "(2654, 2)\n"
          ],
          "name": "stdout"
        }
      ]
    },
    {
      "cell_type": "markdown",
      "metadata": {
        "id": "QhGcFcOFyW4j"
      },
      "source": [
        "## GradCAM"
      ]
    },
    {
      "cell_type": "code",
      "metadata": {
        "id": "gpocSqVJyan7",
        "outputId": "78c2570b-a8a1-4280-f617-c10329455449",
        "colab": {
          "base_uri": "https://localhost:8080/"
        }
      },
      "source": [
        "# summary of resnet50\n",
        "modelResnet50.summary()\n"
      ],
      "execution_count": 45,
      "outputs": [
        {
          "output_type": "stream",
          "text": [
            "resnet50\n",
            "flatten\n",
            "dense\n",
            "dense_1\n",
            "dense_2\n"
          ],
          "name": "stdout"
        }
      ]
    },
    {
      "cell_type": "code",
      "metadata": {
        "id": "gUbm7zTb1K3D"
      },
      "source": [
        "from keras.preprocessing import image\n",
        "from keras.applications.res import preprocess_input, decode_predictions\n",
        "import numpy as np"
      ],
      "execution_count": 31,
      "outputs": []
    },
    {
      "cell_type": "code",
      "metadata": {
        "id": "6Nz5oUcWwT5c",
        "outputId": "bf427bdf-280c-42d3-9411-49eedebd8fec",
        "colab": {
          "base_uri": "https://localhost:8080/"
        }
      },
      "source": [
        "print(modelResnet50.output[:,1])\n",
        "\n",
        "covid_output = modelResnet50.output[:,1]"
      ],
      "execution_count": 39,
      "outputs": [
        {
          "output_type": "stream",
          "text": [
            "KerasTensor(type_spec=TensorSpec(shape=(None,), dtype=tf.float32, name=None), name='tf.__operators__.getitem_6/strided_slice:0', description=\"created by layer 'tf.__operators__.getitem_6'\")\n"
          ],
          "name": "stdout"
        }
      ]
    },
    {
      "cell_type": "code",
      "metadata": {
        "id": "fSX3UdHgxccR"
      },
      "source": [
        "# get the last conv layer in the model\n",
        "last_conv_layer = modelResnet50.get_layer('resnet50')"
      ],
      "execution_count": 40,
      "outputs": []
    },
    {
      "cell_type": "code",
      "metadata": {
        "id": "SDo_GjTPycn9",
        "outputId": "be8e6b60-8c04-48b9-98f5-f26d37b7c502",
        "colab": {
          "base_uri": "https://localhost:8080/",
          "height": 391
        }
      },
      "source": [
        "from keras import backend as K\n",
        "\n",
        "grads = K.gradients(covid_output, last_conv_layer.output)[0]\n",
        "\n",
        "pooled_grads = K.mean(grads, axis=(0, 1, 2))\n",
        "\n",
        "iterate = K.function([model.input],\n",
        "                     [pooled_grads, last_conv_layer.output[0]])\n",
        "\n",
        "pooled_grads_value, conv_layer_output_value = iterate([x])\n",
        "\n",
        "for i in range(512):\n",
        "    conv_layer_output_value[:, :, i] *= pooled_grads_value[i]\n",
        "\n",
        "heatmap = np.mean(conv_layer_output_value, axis=-1)\n",
        "\n",
        "\n"
      ],
      "execution_count": 43,
      "outputs": [
        {
          "output_type": "error",
          "ename": "RuntimeError",
          "evalue": "ignored",
          "traceback": [
            "\u001b[0;31m---------------------------------------------------------------------------\u001b[0m",
            "\u001b[0;31mRuntimeError\u001b[0m                              Traceback (most recent call last)",
            "\u001b[0;32m<ipython-input-43-e6c4d159f049>\u001b[0m in \u001b[0;36m<module>\u001b[0;34m()\u001b[0m\n\u001b[1;32m      1\u001b[0m \u001b[0;32mfrom\u001b[0m \u001b[0mkeras\u001b[0m \u001b[0;32mimport\u001b[0m \u001b[0mbackend\u001b[0m \u001b[0;32mas\u001b[0m \u001b[0mK\u001b[0m\u001b[0;34m\u001b[0m\u001b[0;34m\u001b[0m\u001b[0m\n\u001b[1;32m      2\u001b[0m \u001b[0;34m\u001b[0m\u001b[0m\n\u001b[0;32m----> 3\u001b[0;31m \u001b[0mgrads\u001b[0m \u001b[0;34m=\u001b[0m \u001b[0mK\u001b[0m\u001b[0;34m.\u001b[0m\u001b[0mgradients\u001b[0m\u001b[0;34m(\u001b[0m\u001b[0mcovid_output\u001b[0m\u001b[0;34m,\u001b[0m \u001b[0mlast_conv_layer\u001b[0m\u001b[0;34m.\u001b[0m\u001b[0moutput\u001b[0m\u001b[0;34m)\u001b[0m\u001b[0;34m[\u001b[0m\u001b[0;36m0\u001b[0m\u001b[0;34m]\u001b[0m\u001b[0;34m\u001b[0m\u001b[0;34m\u001b[0m\u001b[0m\n\u001b[0m\u001b[1;32m      4\u001b[0m \u001b[0;34m\u001b[0m\u001b[0m\n\u001b[1;32m      5\u001b[0m \u001b[0mpooled_grads\u001b[0m \u001b[0;34m=\u001b[0m \u001b[0mK\u001b[0m\u001b[0;34m.\u001b[0m\u001b[0mmean\u001b[0m\u001b[0;34m(\u001b[0m\u001b[0mgrads\u001b[0m\u001b[0;34m,\u001b[0m \u001b[0maxis\u001b[0m\u001b[0;34m=\u001b[0m\u001b[0;34m(\u001b[0m\u001b[0;36m0\u001b[0m\u001b[0;34m,\u001b[0m \u001b[0;36m1\u001b[0m\u001b[0;34m,\u001b[0m \u001b[0;36m2\u001b[0m\u001b[0;34m)\u001b[0m\u001b[0;34m)\u001b[0m\u001b[0;34m\u001b[0m\u001b[0;34m\u001b[0m\u001b[0m\n",
            "\u001b[0;32m/usr/local/lib/python3.7/dist-packages/keras/backend.py\u001b[0m in \u001b[0;36mgradients\u001b[0;34m(loss, variables)\u001b[0m\n\u001b[1;32m   4095\u001b[0m   \"\"\"\n\u001b[1;32m   4096\u001b[0m   return tf.compat.v1.gradients(\n\u001b[0;32m-> 4097\u001b[0;31m       loss, variables, colocate_gradients_with_ops=True)\n\u001b[0m\u001b[1;32m   4098\u001b[0m \u001b[0;34m\u001b[0m\u001b[0m\n\u001b[1;32m   4099\u001b[0m \u001b[0;34m\u001b[0m\u001b[0m\n",
            "\u001b[0;32m/usr/local/lib/python3.7/dist-packages/tensorflow/python/ops/gradients_impl.py\u001b[0m in \u001b[0;36mgradients\u001b[0;34m(ys, xs, grad_ys, name, colocate_gradients_with_ops, gate_gradients, aggregation_method, stop_gradients, unconnected_gradients)\u001b[0m\n\u001b[1;32m    170\u001b[0m         \u001b[0mys\u001b[0m\u001b[0;34m,\u001b[0m \u001b[0mxs\u001b[0m\u001b[0;34m,\u001b[0m \u001b[0mgrad_ys\u001b[0m\u001b[0;34m,\u001b[0m \u001b[0mname\u001b[0m\u001b[0;34m,\u001b[0m \u001b[0mcolocate_gradients_with_ops\u001b[0m\u001b[0;34m,\u001b[0m\u001b[0;34m\u001b[0m\u001b[0;34m\u001b[0m\u001b[0m\n\u001b[1;32m    171\u001b[0m         \u001b[0mgate_gradients\u001b[0m\u001b[0;34m,\u001b[0m \u001b[0maggregation_method\u001b[0m\u001b[0;34m,\u001b[0m \u001b[0mstop_gradients\u001b[0m\u001b[0;34m,\u001b[0m\u001b[0;34m\u001b[0m\u001b[0;34m\u001b[0m\u001b[0m\n\u001b[0;32m--> 172\u001b[0;31m         unconnected_gradients)\n\u001b[0m\u001b[1;32m    173\u001b[0m   \u001b[0;31m# pylint: enable=protected-access\u001b[0m\u001b[0;34m\u001b[0m\u001b[0;34m\u001b[0m\u001b[0;34m\u001b[0m\u001b[0m\n\u001b[1;32m    174\u001b[0m \u001b[0;34m\u001b[0m\u001b[0m\n",
            "\u001b[0;32m/usr/local/lib/python3.7/dist-packages/tensorflow/python/ops/gradients_util.py\u001b[0m in \u001b[0;36m_GradientsHelper\u001b[0;34m(ys, xs, grad_ys, name, colocate_gradients_with_ops, gate_gradients, aggregation_method, stop_gradients, unconnected_gradients, src_graph)\u001b[0m\n\u001b[1;32m    488\u001b[0m   \u001b[0;34m\"\"\"Implementation of gradients().\"\"\"\u001b[0m\u001b[0;34m\u001b[0m\u001b[0;34m\u001b[0m\u001b[0m\n\u001b[1;32m    489\u001b[0m   \u001b[0;32mif\u001b[0m \u001b[0mcontext\u001b[0m\u001b[0;34m.\u001b[0m\u001b[0mexecuting_eagerly\u001b[0m\u001b[0;34m(\u001b[0m\u001b[0;34m)\u001b[0m\u001b[0;34m:\u001b[0m\u001b[0;34m\u001b[0m\u001b[0;34m\u001b[0m\u001b[0m\n\u001b[0;32m--> 490\u001b[0;31m     raise RuntimeError(\"tf.gradients is not supported when eager execution \"\n\u001b[0m\u001b[1;32m    491\u001b[0m                        \"is enabled. Use tf.GradientTape instead.\")\n\u001b[1;32m    492\u001b[0m   \u001b[0;32mif\u001b[0m \u001b[0msrc_graph\u001b[0m \u001b[0;32mis\u001b[0m \u001b[0;32mNone\u001b[0m\u001b[0;34m:\u001b[0m\u001b[0;34m\u001b[0m\u001b[0;34m\u001b[0m\u001b[0m\n",
            "\u001b[0;31mRuntimeError\u001b[0m: tf.gradients is not supported when eager execution is enabled. Use tf.GradientTape instead."
          ]
        }
      ]
    },
    {
      "cell_type": "code",
      "metadata": {
        "id": "XS6IRfOc1PPH",
        "outputId": "2a439d5e-cd92-4a42-cd01-56f484427280",
        "colab": {
          "base_uri": "https://localhost:8080/",
          "height": 408
        }
      },
      "source": [
        "for i in range(9):\n",
        "    x, y = test_generator.next()\n",
        "    prediction = modelResnet50.predict(np.expand_dims(x[0], axis=0))[0]\n",
        "    print(prediction.shape)\n",
        "    print(prediction[:10])\n",
        "\n",
        "    print('Predicted:', decode_predictions(prediction)[0])\n",
        "    \n",
        "    # plt.subplot(3, 6, i+1)\n",
        "    # if prediction[0] > prediction[1]:\n",
        "    #     plt.title('Covid %.2f%%' % (prediction[0]*100))\n",
        "    # else:\n",
        "    #     plt.title('No-Covid %.2f%%' % (prediction[1]*100))\n",
        "    \n",
        "    # plt.axis('off')\n",
        "    # plt.imshow(x[0])"
      ],
      "execution_count": 32,
      "outputs": [
        {
          "output_type": "stream",
          "text": [
            "(2,)\n",
            "[0.9912514  0.00874857]\n"
          ],
          "name": "stdout"
        },
        {
          "output_type": "error",
          "ename": "ValueError",
          "evalue": "ignored",
          "traceback": [
            "\u001b[0;31m---------------------------------------------------------------------------\u001b[0m",
            "\u001b[0;31mValueError\u001b[0m                                Traceback (most recent call last)",
            "\u001b[0;32m<ipython-input-32-532c4fa80ebd>\u001b[0m in \u001b[0;36m<module>\u001b[0;34m()\u001b[0m\n\u001b[1;32m      5\u001b[0m     \u001b[0mprint\u001b[0m\u001b[0;34m(\u001b[0m\u001b[0mprediction\u001b[0m\u001b[0;34m[\u001b[0m\u001b[0;34m:\u001b[0m\u001b[0;36m10\u001b[0m\u001b[0;34m]\u001b[0m\u001b[0;34m)\u001b[0m\u001b[0;34m\u001b[0m\u001b[0;34m\u001b[0m\u001b[0m\n\u001b[1;32m      6\u001b[0m \u001b[0;34m\u001b[0m\u001b[0m\n\u001b[0;32m----> 7\u001b[0;31m     \u001b[0mprint\u001b[0m\u001b[0;34m(\u001b[0m\u001b[0;34m'Predicted:'\u001b[0m\u001b[0;34m,\u001b[0m \u001b[0mdecode_predictions\u001b[0m\u001b[0;34m(\u001b[0m\u001b[0mprediction\u001b[0m\u001b[0;34m)\u001b[0m\u001b[0;34m[\u001b[0m\u001b[0;36m0\u001b[0m\u001b[0;34m]\u001b[0m\u001b[0;34m)\u001b[0m\u001b[0;34m\u001b[0m\u001b[0;34m\u001b[0m\u001b[0m\n\u001b[0m\u001b[1;32m      8\u001b[0m \u001b[0;34m\u001b[0m\u001b[0m\n\u001b[1;32m      9\u001b[0m     \u001b[0;31m# plt.subplot(3, 6, i+1)\u001b[0m\u001b[0;34m\u001b[0m\u001b[0;34m\u001b[0m\u001b[0;34m\u001b[0m\u001b[0m\n",
            "\u001b[0;32m/usr/local/lib/python3.7/dist-packages/keras/applications/vgg16.py\u001b[0m in \u001b[0;36mdecode_predictions\u001b[0;34m(preds, top)\u001b[0m\n\u001b[1;32m    233\u001b[0m \u001b[0;34m@\u001b[0m\u001b[0mkeras_export\u001b[0m\u001b[0;34m(\u001b[0m\u001b[0;34m'keras.applications.vgg16.decode_predictions'\u001b[0m\u001b[0;34m)\u001b[0m\u001b[0;34m\u001b[0m\u001b[0;34m\u001b[0m\u001b[0m\n\u001b[1;32m    234\u001b[0m \u001b[0;32mdef\u001b[0m \u001b[0mdecode_predictions\u001b[0m\u001b[0;34m(\u001b[0m\u001b[0mpreds\u001b[0m\u001b[0;34m,\u001b[0m \u001b[0mtop\u001b[0m\u001b[0;34m=\u001b[0m\u001b[0;36m5\u001b[0m\u001b[0;34m)\u001b[0m\u001b[0;34m:\u001b[0m\u001b[0;34m\u001b[0m\u001b[0;34m\u001b[0m\u001b[0m\n\u001b[0;32m--> 235\u001b[0;31m   \u001b[0;32mreturn\u001b[0m \u001b[0mimagenet_utils\u001b[0m\u001b[0;34m.\u001b[0m\u001b[0mdecode_predictions\u001b[0m\u001b[0;34m(\u001b[0m\u001b[0mpreds\u001b[0m\u001b[0;34m,\u001b[0m \u001b[0mtop\u001b[0m\u001b[0;34m=\u001b[0m\u001b[0mtop\u001b[0m\u001b[0;34m)\u001b[0m\u001b[0;34m\u001b[0m\u001b[0;34m\u001b[0m\u001b[0m\n\u001b[0m\u001b[1;32m    236\u001b[0m \u001b[0;34m\u001b[0m\u001b[0m\n\u001b[1;32m    237\u001b[0m \u001b[0;34m\u001b[0m\u001b[0m\n",
            "\u001b[0;32m/usr/local/lib/python3.7/dist-packages/keras/applications/imagenet_utils.py\u001b[0m in \u001b[0;36mdecode_predictions\u001b[0;34m(preds, top)\u001b[0m\n\u001b[1;32m    146\u001b[0m                      \u001b[0;34m'a batch of predictions '\u001b[0m\u001b[0;34m\u001b[0m\u001b[0;34m\u001b[0m\u001b[0m\n\u001b[1;32m    147\u001b[0m                      \u001b[0;34m'(i.e. a 2D array of shape (samples, 1000)). '\u001b[0m\u001b[0;34m\u001b[0m\u001b[0;34m\u001b[0m\u001b[0m\n\u001b[0;32m--> 148\u001b[0;31m                      'Found array with shape: ' + str(preds.shape))\n\u001b[0m\u001b[1;32m    149\u001b[0m   \u001b[0;32mif\u001b[0m \u001b[0mCLASS_INDEX\u001b[0m \u001b[0;32mis\u001b[0m \u001b[0;32mNone\u001b[0m\u001b[0;34m:\u001b[0m\u001b[0;34m\u001b[0m\u001b[0;34m\u001b[0m\u001b[0m\n\u001b[1;32m    150\u001b[0m     fpath = data_utils.get_file(\n",
            "\u001b[0;31mValueError\u001b[0m: `decode_predictions` expects a batch of predictions (i.e. a 2D array of shape (samples, 1000)). Found array with shape: (2,)"
          ]
        }
      ]
    },
    {
      "cell_type": "code",
      "metadata": {
        "id": "e5Y2nEuT1OOf"
      },
      "source": [
        ""
      ],
      "execution_count": null,
      "outputs": []
    }
  ]
}